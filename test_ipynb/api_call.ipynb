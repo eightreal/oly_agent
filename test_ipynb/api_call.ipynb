{
 "cells": [
  {
   "cell_type": "markdown",
   "id": "1d6658c8",
   "metadata": {},
   "source": [
    "# 该脚本用来测试链接魔搭api服务是否通畅"
   ]
  },
  {
   "cell_type": "markdown",
   "id": "97163dd1",
   "metadata": {},
   "source": [
    "## 通过load dotenv加载环境变量"
   ]
  },
  {
   "cell_type": "code",
   "execution_count": 14,
   "id": "3b076350",
   "metadata": {},
   "outputs": [
    {
     "data": {
      "text/plain": [
       "True"
      ]
     },
     "execution_count": 14,
     "metadata": {},
     "output_type": "execute_result"
    }
   ],
   "source": [
    "from dotenv import load_dotenv\n",
    "\n",
    "load_dotenv(\"../.env\")"
   ]
  },
  {
   "cell_type": "markdown",
   "id": "6abfaea1",
   "metadata": {},
   "source": [
    "## 查看导入的环境变量"
   ]
  },
  {
   "cell_type": "code",
   "execution_count": 15,
   "id": "97746f9f",
   "metadata": {},
   "outputs": [
    {
     "name": "stdout",
     "output_type": "stream",
     "text": [
      "c80d92cf-e029-4240-acd1-dd89b92f5137\n",
      "https://api-inference.modelscope.cn/v1/\n"
     ]
    }
   ],
   "source": [
    "import os\n",
    "\n",
    "print(os.environ.get(\"OPENAI_API_KEY\"))\n",
    "print(os.environ.get(\"OPENAI_BASE_URL\"))"
   ]
  },
  {
   "cell_type": "markdown",
   "id": "9e81a748",
   "metadata": {},
   "source": [
    "## 调用测试"
   ]
  },
  {
   "cell_type": "code",
   "execution_count": 16,
   "id": "161d8a14",
   "metadata": {},
   "outputs": [
    {
     "name": "stdout",
     "output_type": "stream",
     "text": [
      "以下是一个经典的快速排序（Quick Sort）实现，使用 Python 编写，适用于教学和理解目的。该实现采用了**分治策略**（Divide and Conquer），通过递归地将数组划分为较小的子数组进行排序。\n",
      "\n",
      "---\n",
      "\n",
      "### ✅ 快速排序实现（非原地）\n",
      "\n",
      "```python\n",
      "def quicksort(arr):\n",
      "    # 如果数组长度为0或1，直接返回\n",
      "    if len(arr) <= 1:\n",
      "        return arr\n",
      "    \n",
      "    # 选择第一个元素作为基准（pivot）\n",
      "    pivot = arr[0]\n",
      "    \n",
      "    # 将数组分为三部分：小于等于基准的、基准本身、大于基准的\n",
      "    left = [x for x in arr[1:] if x <= pivot]  # 左边小于等于基准的元素\n",
      "    right = [x for x in arr[1:] if x > pivot]  # 右边大于基准的元素\n",
      "    \n",
      "    # 递归排序左右部分，并将基准插入中间\n",
      "    return quicksort(left) + [pivot] + quicksort(right)\n",
      "```\n",
      "\n",
      "---\n",
      "\n",
      "### 📌 示例用法\n",
      "\n",
      "```python\n",
      "# 测试数组\n",
      "arr = [3, 6, 8, 10, 1, 2, 1]\n",
      "\n",
      "# 调用快速排序\n",
      "sorted_arr = quicksort(arr)\n",
      "\n",
      "# 输出结果\n",
      "print(sorted_arr)  # 输出: [1, 1, 2, 3, 6, 8, 10]\n",
      "```\n",
      "\n",
      "---\n",
      "\n",
      "### 🧠 算法原理\n",
      "\n",
      "1. **基准选择**：从数组中选择一个元素作为“基准”（pivot）。\n",
      "2. **分区操作**：将数组划分为两个子数组：\n",
      "   - `left` 包含所有小于等于基准的元素。\n",
      "   - `right` 包含所有大于基准的元素。\n",
      "3. **递归排序**：对 `left` 和 `right` 子数组递归执行上述过程。\n",
      "4. **合并结果**：将排序后的 `left`、基准、排序后的 `right` 拼接返回。\n",
      "\n",
      "---\n",
      "\n",
      "### ⚠️ 时间复杂度分析\n",
      "\n",
      "| 情况 | 时间复杂度 |\n",
      "|------|------------|\n",
      "| 最好情况 | O(n log n) |\n",
      "| 平均情况 | O(n log n) |\n",
      "| 最坏情况（如数组已有序） | O(n²) |\n",
      "\n",
      "> **注意**：基准选择对性能有较大影响。上面的实现选择第一个元素作为基准，在最坏情况下（如输入已排序），时间复杂度为 O(n²)。可以通过**随机选择基准**或使用**三数取中法**来优化。\n",
      "\n",
      "---\n",
      "\n",
      "### 🔄 可选优化：随机选择基准\n",
      "\n",
      "为了提高性能，可以将基准随机选择，以避免最坏情况的发生：\n",
      "\n",
      "```python\n",
      "import random\n",
      "\n",
      "def quicksort_optimized(arr):\n",
      "    if len(arr) <= 1:\n",
      "        return arr\n",
      "    pivot = random.choice(arr)\n",
      "    left = [x for x in arr if x < pivot]\n",
      "    middle = [x for x in arr if x == pivot]\n",
      "    right = [x for x in arr if x > pivot]\n",
      "    return quicksort_optimized(left) + middle + quicksort_optimized(right)\n",
      "```\n",
      "\n",
      "---\n",
      "\n",
      "### 🛠 原地快速排序（In-place Quicksort）\n",
      "\n",
      "如果你希望实现**原地排序**（不使用额外内存），可以使用指针分区的方法（如 Hoare 或 Lomuto 分区方案）。这种实现方式更高效，但代码略复杂。如需实现，请告知，我可以进一步提供。\n",
      "\n",
      "---\n",
      "\n",
      "### ✅ 总结\n",
      "\n",
      "- 本实现适用于教学和理解快速排序的基本原理。\n",
      "- 使用列表推导式使代码简洁易读。\n",
      "- 对于实际应用，建议考虑基准选择优化和原地排序实现。\n",
      "\n",
      "如需进一步优化或实现原地版本，请告诉我！"
     ]
    }
   ],
   "source": [
    "from openai import OpenAI\n",
    "\n",
    "client = OpenAI(api_key=\"c80d92cf-e029-4240-acd1-dd89b92f5137\")\n",
    "\n",
    "\n",
    "response = client.chat.completions.create(\n",
    "    model=\"Qwen/Qwen3-235B-A22B\", # ModleScope Model-Id\n",
    "    messages=[\n",
    "        {\n",
    "            'role': 'system',\n",
    "            'content': 'You are a helpful assistant.'\n",
    "        },\n",
    "        {\n",
    "            'role': 'user',\n",
    "            'content': '用python写一下快排'\n",
    "        }\n",
    "    ],\n",
    "    stream=True,\n",
    "    extra_body={\n",
    "        \"enable_thinking\": True,\n",
    "    }\n",
    ")\n",
    "\n",
    "\n",
    "for chunk in response:\n",
    "    print(chunk.choices[0].delta.content, end='', flush=True)"
   ]
  },
  {
   "cell_type": "code",
   "execution_count": 17,
   "id": "e86fb6cf",
   "metadata": {},
   "outputs": [
    {
     "data": {
      "text/plain": [
       "<openai.Stream at 0x10b2cfa10>"
      ]
     },
     "execution_count": 17,
     "metadata": {},
     "output_type": "execute_result"
    }
   ],
   "source": [
    "response"
   ]
  },
  {
   "cell_type": "code",
   "execution_count": 18,
   "id": "fe301729",
   "metadata": {},
   "outputs": [],
   "source": [
    "from litellm import completion\n",
    "from google.adk.models.lite_llm import LiteLlm\n",
    "\n",
    "lite = LiteLlm(model=\"openai/Qwen/Qwen3-235B-A22B\", api_base=os.environ.get(\"OPENAI_BASE_URL\"),stream=True, api_key=os.environ.get(\"OPENAI_API_KEY\"))\n",
    "\n",
    "# os.environ[\"OPENAI_API_KEY\"] = \"your-api-key\"\n",
    "# lite.llm_client.chat()\n",
    "\n",
    "# openai call\n",
    "response = completion(\n",
    "    stream=True,\n",
    "    model = \"openai/Qwen/Qwen3-235B-A22B\", llm_provider=\"openai\",\n",
    "    messages=[{ \"content\": \"Hello, how are you?\",\"role\": \"user\"}]\n",
    ")"
   ]
  }
 ],
 "metadata": {
  "kernelspec": {
   "display_name": ".venv",
   "language": "python",
   "name": "python3"
  },
  "language_info": {
   "codemirror_mode": {
    "name": "ipython",
    "version": 3
   },
   "file_extension": ".py",
   "mimetype": "text/x-python",
   "name": "python",
   "nbconvert_exporter": "python",
   "pygments_lexer": "ipython3",
   "version": "3.13.3"
  }
 },
 "nbformat": 4,
 "nbformat_minor": 5
}
